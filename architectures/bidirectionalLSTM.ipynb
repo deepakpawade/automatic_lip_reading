{
  "nbformat": 4,
  "nbformat_minor": 0,
  "metadata": {
    "colab": {
      "provenance": []
    },
    "kernelspec": {
      "name": "python3",
      "display_name": "Python 3"
    },
    "language_info": {
      "name": "python"
    },
    "accelerator": "GPU",
    "gpuClass": "standard"
  },
  "cells": [
    {
      "cell_type": "code",
      "execution_count": null,
      "metadata": {
        "id": "8KB6OFNswzdL"
      },
      "outputs": [],
      "source": [
        "import numpy as np \n",
        "import pandas as pd\n",
        "import numpy as np\n",
        "import os\n",
        "import imutils\n",
        "import dlib \n",
        "import cv2 \n",
        "import imageio\n",
        "from imutils import face_utils\n",
        "from skimage.transform import resize\n",
        "import time"
      ]
    },
    {
      "cell_type": "code",
      "source": [
        "splits = '/content/drive/MyDrive/splits/'\n",
        "X_train = np.load(splits + 'X_train.npy')\n",
        "X_val = np.load(splits + 'X_val.npy')\n",
        "X_test = np.load(splits + 'X_test.npy')\n",
        "y_train = np.load(splits + 'y_train.npy')\n",
        "y_val = np.load(splits + 'y_val.npy')\n",
        "y_test = np.load(splits + 'y_test.npy')"
      ],
      "metadata": {
        "id": "SfbdQT17xKg2"
      },
      "execution_count": null,
      "outputs": []
    },
    {
      "cell_type": "code",
      "source": [
        "from keras.layers.convolutional import Conv3D, MaxPooling3D\n",
        "from keras.layers.core import Dense, Dropout, Flatten\n",
        "from keras.models import Sequential\n",
        "from keras.layers import Activation, ZeroPadding3D, TimeDistributed, LSTM, GRU, Reshape,Bidirectional\n",
        "# from keras.utils import plot_model\n",
        "from keras.utils.vis_utils import plot_model\n",
        "# from keras.layers.normalization import BatchNormalization\n",
        "from tensorflow.keras.layers import BatchNormalization\n",
        "import matplotlib.pyplot as plt"
      ],
      "metadata": {
        "id": "Ln1eRQEtxMwR"
      },
      "execution_count": null,
      "outputs": []
    },
    {
      "cell_type": "code",
      "source": [
        "model = Sequential()\n",
        "\n",
        "# 1st layer group\n",
        "model.add(Conv3D(32, (3, 3, 3), strides = 1, input_shape=(22, 100, 100, 1), activation='relu', padding='valid'))\n",
        "model.add(MaxPooling3D(pool_size=(2, 2, 2), strides=2))\n",
        "\n",
        "model.add(Conv3D(64, (3, 3, 3), activation='relu', strides=1))\n",
        "model.add(MaxPooling3D(pool_size=(2, 2, 2), strides=2))\n",
        "\n",
        "model.add(Conv3D(128, (3, 3, 3), activation='relu', strides=1))\n",
        "model.add(MaxPooling3D(pool_size=(2, 2, 2), strides=2))\n",
        "\n",
        "# reshape layer\n",
        "# shape = model.get_output_shape_at(0)\n",
        "shape = model.layers[-1].output_shape\n",
        "model.add(Reshape((shape[-1],shape[1]*shape[2]*shape[3])))\n",
        "\n",
        "\n",
        "# Bidirectional LSTMS \n",
        "model.add(Bidirectional(LSTM(64, return_sequences=True)))\n",
        "model.add(Dropout(.3))\n",
        "\n",
        "model.add(Bidirectional(LSTM(32, return_sequences=True)))\n",
        "model.add(Dropout(.3))\n",
        "\n",
        "\n",
        "model.add((Flatten()))\n",
        "\n",
        "# # FC layers group\n",
        "model.add(Dense(2048, activation='relu'))\n",
        "model.add(Dropout(.5))\n",
        "model.add(Dense(1024, activation='relu'))\n",
        "model.add(Dropout(.5))\n",
        "\n",
        "model.add(Dense(10, activation='softmax'))\n",
        "\n",
        "model.compile(loss='categorical_crossentropy', optimizer='Adam', metrics=['accuracy'])\n",
        "model.summary()"
      ],
      "metadata": {
        "colab": {
          "base_uri": "https://localhost:8080/"
        },
        "id": "bofNy6whxu-Q",
        "outputId": "5b2e66e9-5d6d-421a-b6d8-ea97d813dd1b"
      },
      "execution_count": null,
      "outputs": [
        {
          "output_type": "stream",
          "name": "stdout",
          "text": [
            "Model: \"sequential\"\n",
            "_________________________________________________________________\n",
            " Layer (type)                Output Shape              Param #   \n",
            "=================================================================\n",
            " conv3d (Conv3D)             (None, 20, 98, 98, 32)    896       \n",
            "                                                                 \n",
            " max_pooling3d (MaxPooling3D  (None, 10, 49, 49, 32)   0         \n",
            " )                                                               \n",
            "                                                                 \n",
            " conv3d_1 (Conv3D)           (None, 8, 47, 47, 64)     55360     \n",
            "                                                                 \n",
            " max_pooling3d_1 (MaxPooling  (None, 4, 23, 23, 64)    0         \n",
            " 3D)                                                             \n",
            "                                                                 \n",
            " conv3d_2 (Conv3D)           (None, 2, 21, 21, 128)    221312    \n",
            "                                                                 \n",
            " max_pooling3d_2 (MaxPooling  (None, 1, 10, 10, 128)   0         \n",
            " 3D)                                                             \n",
            "                                                                 \n",
            " reshape (Reshape)           (None, 128, 100)          0         \n",
            "                                                                 \n",
            " bidirectional (Bidirectiona  (None, 128, 128)         84480     \n",
            " l)                                                              \n",
            "                                                                 \n",
            " dropout (Dropout)           (None, 128, 128)          0         \n",
            "                                                                 \n",
            " bidirectional_1 (Bidirectio  (None, 128, 64)          41216     \n",
            " nal)                                                            \n",
            "                                                                 \n",
            " dropout_1 (Dropout)         (None, 128, 64)           0         \n",
            "                                                                 \n",
            " flatten (Flatten)           (None, 8192)              0         \n",
            "                                                                 \n",
            " dense (Dense)               (None, 2048)              16779264  \n",
            "                                                                 \n",
            " dropout_2 (Dropout)         (None, 2048)              0         \n",
            "                                                                 \n",
            " dense_1 (Dense)             (None, 1024)              2098176   \n",
            "                                                                 \n",
            " dropout_3 (Dropout)         (None, 1024)              0         \n",
            "                                                                 \n",
            " dense_2 (Dense)             (None, 10)                10250     \n",
            "                                                                 \n",
            "=================================================================\n",
            "Total params: 19,290,954\n",
            "Trainable params: 19,290,954\n",
            "Non-trainable params: 0\n",
            "_________________________________________________________________\n"
          ]
        }
      ]
    },
    {
      "cell_type": "code",
      "source": [
        "import time\n",
        "t1 = time.time()\n",
        "history = model.fit(X_train, y_train, validation_data=(X_val, y_val), epochs=45, batch_size= 16)\n",
        "t2 = time.time()\n",
        "print()\n",
        "print(f\"Training time : {t2 - t1} secs.\")"
      ],
      "metadata": {
        "colab": {
          "base_uri": "https://localhost:8080/"
        },
        "id": "DgWzo1LmymT8",
        "outputId": "42ff4b59-579e-47fa-fb9b-b520d223b3aa"
      },
      "execution_count": null,
      "outputs": [
        {
          "output_type": "stream",
          "name": "stdout",
          "text": [
            "Epoch 1/45\n",
            "75/75 [==============================] - 28s 176ms/step - loss: 2.3303 - accuracy: 0.1133 - val_loss: 2.3154 - val_accuracy: 0.1000\n",
            "Epoch 2/45\n",
            "75/75 [==============================] - 11s 151ms/step - loss: 2.3195 - accuracy: 0.1042 - val_loss: 2.4138 - val_accuracy: 0.1350\n",
            "Epoch 3/45\n",
            "75/75 [==============================] - 11s 151ms/step - loss: 2.2965 - accuracy: 0.1258 - val_loss: 2.3090 - val_accuracy: 0.1150\n",
            "Epoch 4/45\n",
            "75/75 [==============================] - 12s 158ms/step - loss: 2.2886 - accuracy: 0.1475 - val_loss: 2.3097 - val_accuracy: 0.1000\n",
            "Epoch 5/45\n",
            "75/75 [==============================] - 11s 151ms/step - loss: 2.1184 - accuracy: 0.2192 - val_loss: 2.6348 - val_accuracy: 0.2750\n",
            "Epoch 6/45\n",
            "75/75 [==============================] - 11s 152ms/step - loss: 1.8420 - accuracy: 0.3275 - val_loss: 1.9323 - val_accuracy: 0.3400\n",
            "Epoch 7/45\n",
            "75/75 [==============================] - 11s 153ms/step - loss: 1.4952 - accuracy: 0.4742 - val_loss: 1.4804 - val_accuracy: 0.4700\n",
            "Epoch 8/45\n",
            "75/75 [==============================] - 11s 153ms/step - loss: 1.2243 - accuracy: 0.5633 - val_loss: 1.8730 - val_accuracy: 0.3700\n",
            "Epoch 9/45\n",
            "48/75 [==================>...........] - ETA: 3s - loss: 0.9490 - accuracy: 0.6510"
          ]
        }
      ]
    },
    {
      "cell_type": "code",
      "source": [
        "# Plot training & validation accuracy values\n",
        "plt.plot(history.history['accuracy'])\n",
        "plt.plot(history.history['val_accuracy'])\n",
        "plt.title('Model accuracy')\n",
        "plt.ylabel('Accuracy')\n",
        "plt.xlabel('Epoch')\n",
        "plt.legend(['Train', 'Validation'], loc='upper left')\n",
        "plt.show()"
      ],
      "metadata": {
        "id": "CW1RS_6Xydpq"
      },
      "execution_count": null,
      "outputs": []
    }
  ]
}