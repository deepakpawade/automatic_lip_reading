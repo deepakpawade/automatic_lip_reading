{
 "cells": [
  {
   "attachments": {},
   "cell_type": "markdown",
   "metadata": {},
   "source": [
    "The following code is loading the lip reading dataset and transforming the images into constant size 3D Tensors. The images are taken from 15 different people who are lip reading 10 different words. These lip reading images are stored in a directory, and the code reads each image, resizes it to a constant size, and converts it to grayscale. The code then appends these images to create a sequence for each word. The code separates the data into training, validation, and test sets, and normalizes the data by scaling the pixel values between 0 and 1. The labels for each word are also one-hot encoded for use in training the model."
   ]
  },
  {
   "cell_type": "code",
   "execution_count": 16,
   "metadata": {},
   "outputs": [],
   "source": [
    "import numpy as np \n",
    "import pandas as pd\n",
    "import numpy as np\n",
    "import os\n",
    "import imutils\n",
    "import dlib \n",
    "import cv2 \n",
    "import imageio\n",
    "from imutils import face_utils\n",
    "from skimage.transform import resize\n",
    "import time"
   ]
  },
  {
   "cell_type": "code",
   "execution_count": 17,
   "metadata": {},
   "outputs": [],
   "source": [
    "people = ['F01','F02','F04','F05','F06','F07','F08','F09', 'F10','F11','M01','M02','M04','M07','M08']\n",
    "# people = ['F01','F02','F04','F05']\n",
    "data_types = ['words']\n",
    "folder_enum = ['01','02','03','04','05','06','07','08', '09', '10']\n",
    "instances = ['01','02','03','04','05','06','07','08', '09', '10']\n",
    "\n",
    "words = ['Begin', 'Choose', 'Connection', 'Navigation', 'Next', 'Previous', 'Start', 'Stop', 'Hello', 'Web']          \n",
    "words_di = {i:words[i] for i in range(len(words))}"
   ]
  },
  {
   "cell_type": "code",
   "execution_count": 18,
   "metadata": {},
   "outputs": [],
   "source": [
    "max_seq_length = 22\n",
    "\n",
    "X_train = []\n",
    "y_train = []\n",
    "X_val = []\n",
    "y_val = []\n",
    "X_test = []\n",
    "y_test = []\n",
    "\n",
    "\n",
    "MAX_WIDTH = 100\n",
    "MAX_HEIGHT = 100"
   ]
  },
  {
   "attachments": {},
   "cell_type": "markdown",
   "metadata": {},
   "source": [
    "The following code is creating constant size 4D tensors from cropped lip regions of lip reading dataset."
   ]
  },
  {
   "cell_type": "code",
   "execution_count": 19,
   "metadata": {},
   "outputs": [
    {
     "name": "stderr",
     "output_type": "stream",
     "text": [
      "C:\\Users\\deepdesk\\AppData\\Local\\Temp\\ipykernel_14816\\1417641816.py:22: DeprecationWarning: Starting with ImageIO v3 the behavior of this function will switch to that of iio.v3.imread. To keep the current behavior (and make this warning dissapear) use `import imageio.v2 as imageio` or call `imageio.v2.imread` directly.\n",
      "  image = imageio.imread(path + '/' + img_name)\n"
     ]
    },
    {
     "name": "stdout",
     "output_type": "stream",
     "text": [
      "Finished reading images for person F01. Time taken : 5.442631959915161 secs.\n",
      "Finished reading images for person F02. Time taken : 5.258516550064087 secs.\n",
      "Finished reading images for person F04. Time taken : 9.28353762626648 secs.\n",
      "Finished reading images for person F05. Time taken : 8.026113033294678 secs.\n",
      "Finished reading images for person F06. Time taken : 8.701011657714844 secs.\n",
      "Finished reading images for person F07. Time taken : 7.386072635650635 secs.\n",
      "Finished reading images for person F08. Time taken : 6.539915561676025 secs.\n",
      "Finished reading images for person F09. Time taken : 6.368438005447388 secs.\n",
      "Finished reading images for person F10. Time taken : 6.136327743530273 secs.\n",
      "Finished reading images for person F11. Time taken : 6.025261402130127 secs.\n",
      "Finished reading images for person M01. Time taken : 7.694720506668091 secs.\n",
      "Finished reading images for person M02. Time taken : 10.318457126617432 secs.\n",
      "Finished reading images for person M04. Time taken : 8.851693391799927 secs.\n",
      "Finished reading images for person M07. Time taken : 6.584805488586426 secs.\n",
      "Finished reading images for person M08. Time taken : 6.026598691940308 secs.\n",
      "Time taken for creating constant size 3D Tensors from those cropped lip regions : 108.64510202407837 secs.\n"
     ]
    }
   ],
   "source": [
    "t1 = time.time()\n",
    "UNSEEN_VALIDATION_SPLIT = ['F07', 'M02']\n",
    "# UNSEEN_VALIDATION_SPLIT = ['F05']\n",
    "\n",
    "UNSEEN_TEST_SPLIT = ['F04']\n",
    "\n",
    "directory = 'D:/Projects/MIRACL-VC1/cropped'\n",
    "\n",
    "for person_id in people:\n",
    "    tx1 = time.time()\n",
    "    for data_type in data_types:\n",
    "\n",
    "        # A for loop that iterates through the different words that are lip read by each person. for count, value in enumerate(values): \n",
    "        for word_index, word in enumerate(folder_enum):\n",
    "#             print(f\"Word : '{words[word_index]}'\")\n",
    "            for iteration in instances:\n",
    "                path = os.path.join(directory, person_id, data_type, word, iteration)\n",
    "                # filelist = sorted(os.listdir(path + '/'))\n",
    "                filelist = sorted(os.listdir(path))\n",
    "\n",
    "                sequence = [] \n",
    "                for img_name in filelist:\n",
    "                    if img_name.startswith('color'):\n",
    "                        image = imageio.imread(path + '/' + img_name)\n",
    "                        image = resize(image, (MAX_WIDTH, MAX_HEIGHT))\n",
    "                        \n",
    "                        # This is being done to convert a float-valued image (with values between 0 and 1) to an 8-bit grayscale image with values between 0 and 255.\n",
    "                        image = 255 * image\n",
    "                        # Convert to integer data type pixels.\n",
    "                        image = image.astype(np.uint8)\n",
    "                        sequence.append(image)        \n",
    "\n",
    "                # add zeros to remaining indeces \n",
    "                pad_array = [np.zeros((MAX_WIDTH, MAX_HEIGHT))]   #single image placeholder                       \n",
    "                sequence.extend(pad_array * (max_seq_length - len(sequence)))\n",
    "                sequence = np.array(sequence)\n",
    "                \n",
    "                # assign the sequence to repective splits\n",
    "                if person_id in UNSEEN_TEST_SPLIT:\n",
    "                    X_test.append(sequence)\n",
    "                    y_test.append(word_index)\n",
    "                elif person_id in UNSEEN_VALIDATION_SPLIT:\n",
    "                    X_val.append(sequence)\n",
    "                    y_val.append(word_index)\n",
    "                else:\n",
    "                    X_train.append(sequence)\n",
    "                    y_train.append(word_index)    \n",
    "    tx2 = time.time()\n",
    "    print(f'Finished reading images for person {person_id}. Time taken : {tx2 - tx1} secs.')    \n",
    "    \n",
    "t2 = time.time()\n",
    "print(f\"Time taken for creating constant size 3D Tensors from those cropped lip regions : {t2 - t1} secs.\")\n",
    "# A tensor is a multi-dimensional array that can store data of any type (integers, floating point values, etc.). In deep learning, tensors are used to store the data that is fed into the network"
   ]
  },
  {
   "cell_type": "code",
   "execution_count": 20,
   "metadata": {},
   "outputs": [],
   "source": [
    "X_train = np.array(X_train)\n",
    "X_val = np.array(X_val)\n",
    "X_test = np.array(X_test)"
   ]
  },
  {
   "attachments": {},
   "cell_type": "markdown",
   "metadata": {},
   "source": [
    "This means that X has 1200 samples, each sample has 22 frames (time series) and each frame has 100 x 100 pixels"
   ]
  },
  {
   "cell_type": "code",
   "execution_count": 21,
   "metadata": {},
   "outputs": [
    {
     "name": "stdout",
     "output_type": "stream",
     "text": [
      "(1200, 22, 100, 100)\n",
      "(200, 22, 100, 100)\n",
      "(100, 22, 100, 100)\n"
     ]
    }
   ],
   "source": [
    "print(X_train.shape)\n",
    "print(X_val.shape)\n",
    "print(X_test.shape)"
   ]
  },
  {
   "cell_type": "code",
   "execution_count": 22,
   "metadata": {},
   "outputs": [],
   "source": [
    "y_train = np.array(y_train)\n",
    "y_val = np.array(y_val)\n",
    "y_test = np.array(y_test)"
   ]
  },
  {
   "cell_type": "code",
   "execution_count": 23,
   "metadata": {},
   "outputs": [
    {
     "name": "stdout",
     "output_type": "stream",
     "text": [
      "(1200,)\n",
      "(200,)\n",
      "(100,)\n"
     ]
    }
   ],
   "source": [
    "print(y_train.shape)\n",
    "print(y_val.shape)\n",
    "print(y_test.shape)"
   ]
  },
  {
   "cell_type": "code",
   "execution_count": 26,
   "metadata": {},
   "outputs": [],
   "source": [
    "# np.save('X_train',X_train)\n",
    "# np.save('X_val',X_val)\n",
    "# np.save('X_test',X_test)\n",
    "# np.save('y_train',y_train)\n",
    "# np.save('y_val',y_val)\n",
    "# np.save('y_test',y_test)"
   ]
  },
  {
   "cell_type": "code",
   "execution_count": 33,
   "metadata": {},
   "outputs": [],
   "source": [
    "# X_train, X_val, X_test, y_train, y_val, y_test = np.load('X_train.npy'),np.load('X_val.npy'),np.load('X_test.npy'),np.load('y_train.npy'),np.load('y_val.npy'),np.load('y_test.npy')"
   ]
  },
  {
   "cell_type": "code",
   "execution_count": null,
   "metadata": {},
   "outputs": [],
   "source": []
  },
  {
   "cell_type": "markdown",
   "metadata": {},
   "source": [
    "## Normalization"
   ]
  },
  {
   "cell_type": "code",
   "execution_count": 1,
   "metadata": {},
   "outputs": [],
   "source": [
    "def normalize_it(X):\n",
    "    \n",
    "    # keepdims=True keeps same size as input. This is useful for broadcasting the result.\n",
    "    # Broadcasting is a technique in NumPy where it automatically expands an array \n",
    "    # with smaller dimensions to match the shape of an array with larger dimensions during element-wise operations.\n",
    "    # For example, in this case, if the shape of the filter was (22, 1, 1) instead of (1, 22, 1, 1),\n",
    "    #  the result of the convolution would not be broadcastable and an error would be raised. By having the shape (1, 22, 1, 1), \n",
    "    # it allows the result to be broadcast to (1200, 22, 1, 1), which is the shape of the output volume.\n",
    "    v_min = X.min(axis=(2, 3), keepdims=True) #op shape (1200, 22, 1, 1). \n",
    "    v_max = X.max(axis=(2, 3), keepdims=True)\n",
    "    X = (X - v_min)/(v_max - v_min)\n",
    "    X = np.nan_to_num(X)\n",
    "    return X"
   ]
  },
  {
   "cell_type": "code",
   "execution_count": 35,
   "metadata": {},
   "outputs": [],
   "source": [
    "from keras.utils import np_utils, generic_utils"
   ]
  },
  {
   "cell_type": "code",
   "execution_count": null,
   "metadata": {},
   "outputs": [],
   "source": [
    "X_train = normalize_it(X_train)\n",
    "X_val = normalize_it(X_val)\n",
    "X_test = normalize_it(X_test)\n",
    "\n",
    "y_train = np_utils.to_categorical(y_train, 10)\n",
    "y_test = np_utils.to_categorical(y_test, 10)\n",
    "y_val = np_utils.to_categorical(y_val, 10)\n",
    "\n",
    "from sklearn.utils import shuffle\n",
    "X_train, y_train = shuffle(X_train, y_train, random_state=0)\n",
    "X_test, y_test = shuffle(X_test, y_test, random_state=0)\n",
    "X_val, y_val = shuffle(X_val, y_val, random_state=0)"
   ]
  },
  {
   "cell_type": "code",
   "execution_count": 37,
   "metadata": {},
   "outputs": [],
   "source": [
    "X_train = np.expand_dims(X_train, axis=4)\n",
    "X_val = np.expand_dims(X_val, axis=4)\n",
    "X_test = np.expand_dims(X_test, axis=4) # op : (100, 22, 100, 100, 1)\n",
    "# This is often used when working with Convolutional Neural Networks (CNNs) to give them the correct data shape for processing.\n",
    "# This additional dimension can be interpreted as a channel dimension in case of image data."
   ]
  },
  {
   "cell_type": "code",
   "execution_count": 39,
   "metadata": {},
   "outputs": [],
   "source": [
    "# saving the splits for future use.\n",
    "np.save('X_train',X_train)\n",
    "np.save('X_val',X_val)\n",
    "np.save('X_test',X_test)\n",
    "np.save('y_train',y_train)\n",
    "np.save('y_val',y_val)\n",
    "np.save('y_test',y_test)"
   ]
  },
  {
   "cell_type": "code",
   "execution_count": 1,
   "metadata": {},
   "outputs": [],
   "source": [
    "from keras.layers.convolutional import Conv3D, MaxPooling3D\n",
    "from keras.layers.core import Dense, Dropout, Flatten\n",
    "from keras.models import Sequential\n",
    "from keras.layers import Activation, ZeroPadding3D, TimeDistributed, LSTM, GRU, Reshape\n",
    "# from keras.utils import plot_model\n",
    "from keras.utils.vis_utils import plot_model\n",
    "# from keras.layers.normalization import BatchNormalization\n",
    "from tensorflow.keras.layers import BatchNormalization\n",
    "import matplotlib.pyplot as plt"
   ]
  },
  {
   "cell_type": "code",
   "execution_count": 15,
   "metadata": {},
   "outputs": [],
   "source": [
    "# # release GPU memory\n",
    "# from keras import backend as K\n",
    "# K.clear_session()\n",
    "\n",
    "# from numba import cuda\n",
    "# cuda.select_device(0)\n",
    "# cuda.close()"
   ]
  },
  {
   "attachments": {},
   "cell_type": "markdown",
   "metadata": {},
   "source": [
    "The Conv3D layer is a 3D convolutional layer in Keras that takes as input a tensor with the shape of (batch_size, time_steps, rows, columns, channels). 3DCNNs are better suited for processing video and image sequences, while regular CNNs are better suited for processing still images.  It takes into consideration both spatial and temporal relationships between the frames, which is crucial for recognizing dynamic features such as facial expressions.\n",
    "The Conv3D layer is used to detect features in the input image, and the parameters are set to work optimally for this specific use case."
   ]
  },
  {
   "cell_type": "code",
   "execution_count": 2,
   "metadata": {},
   "outputs": [
    {
     "name": "stdout",
     "output_type": "stream",
     "text": [
      "Model: \"sequential\"\n",
      "_________________________________________________________________\n",
      " Layer (type)                Output Shape              Param #   \n",
      "=================================================================\n",
      " conv3d (Conv3D)             (None, 20, 98, 98, 64)    1792      \n",
      "                                                                 \n",
      " max_pooling3d (MaxPooling3D  (None, 10, 49, 49, 64)   0         \n",
      " )                                                               \n",
      "                                                                 \n",
      " conv3d_1 (Conv3D)           (None, 8, 47, 47, 128)    221312    \n",
      "                                                                 \n",
      " max_pooling3d_1 (MaxPooling  (None, 4, 23, 23, 128)   0         \n",
      " 3D)                                                             \n",
      "                                                                 \n",
      " conv3d_2 (Conv3D)           (None, 3, 22, 22, 256)    262400    \n",
      "                                                                 \n",
      " max_pooling3d_2 (MaxPooling  (None, 1, 11, 11, 256)   0         \n",
      " 3D)                                                             \n",
      "                                                                 \n",
      " flatten (Flatten)           (None, 30976)             0         \n",
      "                                                                 \n",
      " dense (Dense)               (None, 4096)              126881792 \n",
      "                                                                 \n",
      " dropout (Dropout)           (None, 4096)              0         \n",
      "                                                                 \n",
      " dense_1 (Dense)             (None, 2048)              8390656   \n",
      "                                                                 \n",
      " dropout_1 (Dropout)         (None, 2048)              0         \n",
      "                                                                 \n",
      " dense_2 (Dense)             (None, 10)                20490     \n",
      "                                                                 \n",
      "=================================================================\n",
      "Total params: 135,778,442\n",
      "Trainable params: 135,778,442\n",
      "Non-trainable params: 0\n",
      "_________________________________________________________________\n"
     ]
    }
   ],
   "source": [
    "model = Sequential()\n",
    "\n",
    "# 1st layer group\n",
    "# 64: Number of filters (or kernels) used in this layer. Each filter will be responsible for detecting a unique feature in the input. A higher number of filters will increase the number of learned features, but also the computational cost.\n",
    "# (3, 3, 3): The size of the convolutional filter. In this case, it is a 3x3x3 cube. A larger filter size can capture more complex features, but it also increases the computation cost.\n",
    "# strides = 1: The number of pixels by which the filter will move in each step. In this case, the filter will move 1 pixel at a time.\n",
    "# input_shape=(22, 100, 100, 1): The shape of the input tensor. In this case, it is (batch_size, time_steps, rows, columns, channels). The batch_size, rows, and columns will be determined at runtime. The time_steps are set to 22 and the channels are set to 1, which indicates that the input data is a grayscale image.\n",
    "# activation='relu': The activation function used after the convolution operation. ReLU (rectified linear unit) is a popular activation function used in computer vision. It replaces negative values with zero.\n",
    "# padding='valid': The type of padding used. In this case, it is 'valid' which means that the input will not be padded, and the spatial dimensions of the output will be smaller than the input.\n",
    "model.add(Conv3D(64, (3, 3, 3), strides = 1, input_shape=(22, 100, 100, 1), activation='relu', padding='valid'))\n",
    "\n",
    "# The MaxPooling3D function is a type of pooling layer in a Convolutional Neural Network (CNN). It reduces the spatial size of the representation by taking the maximum value from each pooling operation. This helps to reduce the computation required for training and also helps in preventing overfitting.\n",
    "# The arguments used in this line are:\n",
    "# pool_size: This argument specifies the size of the pooling window that will be applied over each input feature map. In this case, (2, 2, 2) is used which means the pooling window will have size 2x2x2. This means that the window will take the maximum value of the region of size 2x2x2 in each feature map.\n",
    "# strides: This argument defines the step size at which the pooling window will slide over the input feature maps. In this case, strides=2 means that the pooling window will move by two pixels in each direction (horizontally and vertically) with each step. This means that the output feature map will have half the size in each dimension compared to the input feature map\n",
    "model.add(MaxPooling3D(pool_size=(2, 2, 2), strides=2))\n",
    "\n",
    "model.add(Conv3D(128, (3, 3, 3), activation='relu', strides=1))\n",
    "model.add(MaxPooling3D(pool_size=(2, 2, 2), strides=2))\n",
    "\n",
    "model.add(Conv3D(256, (2, 2, 2), activation='relu', strides=1))\n",
    "model.add(MaxPooling3D(pool_size=(2, 2, 2), strides=2))\n",
    "\n",
    "model.add((Flatten()))\n",
    "\n",
    "# # FC layers group\n",
    "model.add(Dense(4096, activation='relu'))\n",
    "model.add(Dropout(.5))\n",
    "model.add(Dense(2048, activation='relu'))\n",
    "model.add(Dropout(.5))\n",
    "\n",
    "model.add(Dense(10, activation='softmax'))\n",
    "\n",
    "model.compile(loss='categorical_crossentropy', optimizer='Adagrad', metrics=['accuracy'])\n",
    "model.summary()"
   ]
  },
  {
   "cell_type": "code",
   "execution_count": 3,
   "metadata": {},
   "outputs": [
    {
     "data": {
      "image/png": "[encoded data removed]",
      "text/plain": [
       "<IPython.core.display.Image object>"
      ]
     },
     "execution_count": 3,
     "metadata": {},
     "output_type": "execute_result"
    }
   ],
   "source": [
    "from keras.utils import plot_model\n",
    "plot_model(model, to_file='model.png')"
   ]
  },
  {
   "cell_type": "code",
   "execution_count": 15,
   "metadata": {},
   "outputs": [
    {
     "data": {
      "image/png": "[encoded data removed]",
      "text/plain": [
       "<PIL.Image.Image image mode=RGBA size=4306x491>"
      ]
     },
     "execution_count": 15,
     "metadata": {},
     "output_type": "execute_result"
    }
   ],
   "source": [
    "import visualkeras\n",
    "from PIL import ImageFont\n",
    "font = ImageFont.truetype(\"arial.ttf\", 32)  # using comic sans is strictly prohibited!\n",
    "visualkeras.layered_view(model, legend=True, font=font, spacing=50)  # font is optional!"
   ]
  },
  {
   "cell_type": "code",
   "execution_count": 17,
   "metadata": {},
   "outputs": [
    {
     "name": "stdout",
     "output_type": "stream",
     "text": [
      "Epoch 1/45\n",
      "1200/1200 [==============================] - 49s 38ms/step - loss: 2.3053 - accuracy: 0.1075 - val_loss: 2.2940 - val_accuracy: 0.0950\n",
      "Epoch 2/45\n",
      "1200/1200 [==============================] - 45s 37ms/step - loss: 2.2950 - accuracy: 0.1158 - val_loss: 2.2793 - val_accuracy: 0.1250\n",
      "Epoch 3/45\n",
      "1200/1200 [==============================] - 45s 37ms/step - loss: 2.2760 - accuracy: 0.1342 - val_loss: 2.2124 - val_accuracy: 0.2000\n",
      "Epoch 4/45\n",
      "1200/1200 [==============================] - 45s 37ms/step - loss: 2.2551 - accuracy: 0.1583 - val_loss: 2.1842 - val_accuracy: 0.2000\n",
      "Epoch 5/45\n",
      "1200/1200 [==============================] - 44s 37ms/step - loss: 2.2086 - accuracy: 0.1758 - val_loss: 2.0871 - val_accuracy: 0.2450\n",
      "Epoch 6/45\n",
      "1200/1200 [==============================] - 45s 37ms/step - loss: 2.1133 - accuracy: 0.2308 - val_loss: 1.8989 - val_accuracy: 0.4150\n",
      "Epoch 7/45\n",
      "1200/1200 [==============================] - 45s 37ms/step - loss: 1.8817 - accuracy: 0.3100 - val_loss: 1.6627 - val_accuracy: 0.3150\n",
      "Epoch 8/45\n",
      "1200/1200 [==============================] - 45s 37ms/step - loss: 1.6081 - accuracy: 0.4133 - val_loss: 1.4673 - val_accuracy: 0.4350\n",
      "Epoch 9/45\n",
      "1200/1200 [==============================] - 44s 37ms/step - loss: 1.3684 - accuracy: 0.4917 - val_loss: 1.3281 - val_accuracy: 0.4050\n",
      "Epoch 10/45\n",
      "1200/1200 [==============================] - 45s 37ms/step - loss: 1.1836 - accuracy: 0.5567 - val_loss: 1.3291 - val_accuracy: 0.4900\n",
      "Epoch 11/45\n",
      "1200/1200 [==============================] - 44s 37ms/step - loss: 1.0774 - accuracy: 0.6100 - val_loss: 1.1748 - val_accuracy: 0.5500\n",
      "Epoch 12/45\n",
      "1200/1200 [==============================] - 44s 37ms/step - loss: 0.9436 - accuracy: 0.6567 - val_loss: 1.2365 - val_accuracy: 0.5100\n",
      "Epoch 13/45\n",
      "1200/1200 [==============================] - 44s 37ms/step - loss: 0.8662 - accuracy: 0.6917 - val_loss: 1.1992 - val_accuracy: 0.5350\n",
      "Epoch 14/45\n",
      "1200/1200 [==============================] - 44s 37ms/step - loss: 0.7593 - accuracy: 0.7308 - val_loss: 1.5949 - val_accuracy: 0.4450\n",
      "Epoch 15/45\n",
      "1200/1200 [==============================] - 44s 37ms/step - loss: 0.6960 - accuracy: 0.7592 - val_loss: 1.4095 - val_accuracy: 0.5050\n",
      "Epoch 16/45\n",
      "1200/1200 [==============================] - 44s 37ms/step - loss: 0.6325 - accuracy: 0.7925 - val_loss: 1.2735 - val_accuracy: 0.5650\n",
      "Epoch 17/45\n",
      "1200/1200 [==============================] - 45s 37ms/step - loss: 0.5815 - accuracy: 0.8025 - val_loss: 1.3616 - val_accuracy: 0.5300\n",
      "Epoch 18/45\n",
      "1200/1200 [==============================] - 45s 37ms/step - loss: 0.5287 - accuracy: 0.8075 - val_loss: 1.3657 - val_accuracy: 0.5250\n",
      "Epoch 19/45\n",
      "1200/1200 [==============================] - 45s 38ms/step - loss: 0.4872 - accuracy: 0.8300 - val_loss: 1.3850 - val_accuracy: 0.5450\n",
      "Epoch 20/45\n",
      "1200/1200 [==============================] - 45s 38ms/step - loss: 0.4559 - accuracy: 0.8333 - val_loss: 1.2862 - val_accuracy: 0.5450\n",
      "Epoch 21/45\n",
      "1200/1200 [==============================] - 45s 37ms/step - loss: 0.3629 - accuracy: 0.8750 - val_loss: 1.6774 - val_accuracy: 0.5650\n",
      "Epoch 22/45\n",
      "1200/1200 [==============================] - 44s 37ms/step - loss: 0.3643 - accuracy: 0.8833 - val_loss: 1.4308 - val_accuracy: 0.5500\n",
      "Epoch 23/45\n",
      "1200/1200 [==============================] - 45s 37ms/step - loss: 0.3059 - accuracy: 0.9017 - val_loss: 1.6507 - val_accuracy: 0.5450\n",
      "Epoch 24/45\n",
      "1200/1200 [==============================] - 45s 37ms/step - loss: 0.2948 - accuracy: 0.8983 - val_loss: 1.7118 - val_accuracy: 0.5500\n",
      "Epoch 25/45\n",
      "1200/1200 [==============================] - 45s 37ms/step - loss: 0.2694 - accuracy: 0.9175 - val_loss: 1.6961 - val_accuracy: 0.5650\n",
      "Epoch 26/45\n",
      "1200/1200 [==============================] - 44s 37ms/step - loss: 0.2430 - accuracy: 0.9208 - val_loss: 2.1682 - val_accuracy: 0.4900\n",
      "Epoch 27/45\n",
      "1200/1200 [==============================] - 44s 37ms/step - loss: 0.2103 - accuracy: 0.9333 - val_loss: 1.5543 - val_accuracy: 0.5950\n",
      "Epoch 28/45\n",
      "1200/1200 [==============================] - 45s 37ms/step - loss: 0.2067 - accuracy: 0.9325 - val_loss: 1.7339 - val_accuracy: 0.5800\n",
      "Epoch 29/45\n",
      "1200/1200 [==============================] - 45s 37ms/step - loss: 0.1692 - accuracy: 0.9483 - val_loss: 1.9444 - val_accuracy: 0.5800\n",
      "Epoch 30/45\n",
      "1200/1200 [==============================] - 45s 37ms/step - loss: 0.1621 - accuracy: 0.9500 - val_loss: 1.8783 - val_accuracy: 0.5800\n",
      "Epoch 31/45\n",
      "1200/1200 [==============================] - 45s 37ms/step - loss: 0.1515 - accuracy: 0.9550 - val_loss: 1.7772 - val_accuracy: 0.5950\n",
      "Epoch 32/45\n",
      "1200/1200 [==============================] - 44s 37ms/step - loss: 0.1257 - accuracy: 0.9658 - val_loss: 1.7013 - val_accuracy: 0.5900\n",
      "Epoch 33/45\n",
      "1200/1200 [==============================] - 45s 37ms/step - loss: 0.1127 - accuracy: 0.9708 - val_loss: 1.9930 - val_accuracy: 0.5650\n",
      "Epoch 34/45\n",
      "1200/1200 [==============================] - 45s 38ms/step - loss: 0.1187 - accuracy: 0.9642 - val_loss: 2.1111 - val_accuracy: 0.5650\n",
      "Epoch 35/45\n",
      "1200/1200 [==============================] - 45s 37ms/step - loss: 0.1135 - accuracy: 0.9658 - val_loss: 2.2294 - val_accuracy: 0.5750\n",
      "Epoch 36/45\n",
      "1200/1200 [==============================] - 45s 37ms/step - loss: 0.0955 - accuracy: 0.9717 - val_loss: 2.1130 - val_accuracy: 0.5850\n",
      "Epoch 37/45\n",
      "1200/1200 [==============================] - 45s 37ms/step - loss: 0.0876 - accuracy: 0.9733 - val_loss: 2.1630 - val_accuracy: 0.5650\n",
      "Epoch 38/45\n",
      "1200/1200 [==============================] - 45s 37ms/step - loss: 0.0796 - accuracy: 0.9750 - val_loss: 2.0360 - val_accuracy: 0.5600\n",
      "Epoch 39/45\n",
      "1200/1200 [==============================] - 45s 37ms/step - loss: 0.0790 - accuracy: 0.9792 - val_loss: 2.3113 - val_accuracy: 0.5650\n",
      "Epoch 40/45\n",
      "1200/1200 [==============================] - 45s 37ms/step - loss: 0.0719 - accuracy: 0.9808 - val_loss: 2.1503 - val_accuracy: 0.5650\n",
      "Epoch 41/45\n",
      "1200/1200 [==============================] - 44s 37ms/step - loss: 0.0613 - accuracy: 0.9850 - val_loss: 2.5489 - val_accuracy: 0.5300\n",
      "Epoch 42/45\n",
      "1200/1200 [==============================] - 45s 38ms/step - loss: 0.0690 - accuracy: 0.9825 - val_loss: 2.4420 - val_accuracy: 0.5750\n",
      "Epoch 43/45\n",
      "1200/1200 [==============================] - 45s 37ms/step - loss: 0.0543 - accuracy: 0.9875 - val_loss: 2.2731 - val_accuracy: 0.5700\n",
      "Epoch 44/45\n",
      "1200/1200 [==============================] - 44s 37ms/step - loss: 0.0408 - accuracy: 0.9933 - val_loss: 2.6545 - val_accuracy: 0.5850\n",
      "Epoch 45/45\n",
      "1200/1200 [==============================] - 44s 37ms/step - loss: 0.0364 - accuracy: 0.9958 - val_loss: 2.6018 - val_accuracy: 0.5850\n",
      "\n",
      "Training time : 2013.8763794898987 secs.\n"
     ]
    }
   ],
   "source": [
    "t1 = time.time()\n",
    "history = model.fit(X_train, y_train, validation_data=(X_val, y_val), epochs=45, batch_size= 1)\n",
    "t2 = time.time()\n",
    "print()\n",
    "print(f\"Training time : {t2 - t1} secs.\")"
   ]
  },
  {
   "cell_type": "code",
   "execution_count": 18,
   "metadata": {},
   "outputs": [
    {
     "data": {
      "image/png": "[encoded data removed]",
      "text/plain": [
       "<Figure size 640x480 with 1 Axes>"
      ]
     },
     "metadata": {},
     "output_type": "display_data"
    }
   ],
   "source": [
    "# Plot training & validation accuracy values\n",
    "plt.plot(history.history['accuracy'])\n",
    "plt.plot(history.history['val_accuracy'])\n",
    "plt.title('Model accuracy')\n",
    "plt.ylabel('Accuracy')\n",
    "plt.xlabel('Epoch')\n",
    "plt.legend(['Train', 'Validation'], loc='upper left')\n",
    "plt.show()"
   ]
  },
  {
   "cell_type": "code",
   "execution_count": 26,
   "metadata": {},
   "outputs": [],
   "source": [
    "model.save('D:/Projects/MIRACL-VC1/models/cnn_adagrad_e45_bc1/model.h5')"
   ]
  },
  {
   "cell_type": "code",
   "execution_count": 25,
   "metadata": {},
   "outputs": [],
   "source": [
    "model.save_weights('D:/Projects/MIRACL-VC1/models/cnn_adagrad_e45_bc1/model_weights.h5')"
   ]
  },
  {
   "cell_type": "code",
   "execution_count": 40,
   "metadata": {},
   "outputs": [],
   "source": [
    "from tensorflow.keras.models import Model\n",
    "from tensorflow.keras.models import load_model\n",
    "savedModel=load_model('D:/Projects/MIRACL-VC1/models/cnn_adagrad_e45_bc1/model.h5')"
   ]
  },
  {
   "cell_type": "code",
   "execution_count": null,
   "metadata": {},
   "outputs": [],
   "source": [
    "ypred = savedModel.predict(X_test)"
   ]
  },
  {
   "cell_type": "code",
   "execution_count": null,
   "metadata": {},
   "outputs": [],
   "source": [
    "predicted_words = [words[i] for i in np.argmax(ypred, axis=1)]\n",
    "actual_words = [words[i] for i in np.argmax(y_test, axis=1)] "
   ]
  },
  {
   "cell_type": "code",
   "execution_count": null,
   "metadata": {},
   "outputs": [],
   "source": [
    "correct = 0\n",
    "for p, a in zip(predicted_words, actual_words):\n",
    "    if p == a:\n",
    "        correct += 1\n",
    "#     print(f\"Predicted : {p} \\t Actual : {a}\")\n",
    "\n",
    "accuracy = correct/len(actual_words)\n",
    "print(f\"Accuracy = {accuracy} on completely unseen data\")"
   ]
  },
  {
   "cell_type": "code",
   "execution_count": 4,
   "metadata": {},
   "outputs": [],
   "source": [
    "file_list = os.listdir('D:/Projects/external_data/cropped')"
   ]
  },
  {
   "cell_type": "code",
   "execution_count": 5,
   "metadata": {},
   "outputs": [],
   "source": [
    "import numpy as np\n",
    "import os\n",
    "import imutils\n",
    "import dlib # run \"pip install dlib\"\n",
    "import cv2 # run \"pip install opencv-python\"\n",
    "\n",
    "import imageio\n",
    "from imutils import face_utils"
   ]
  },
  {
   "cell_type": "code",
   "execution_count": 7,
   "metadata": {},
   "outputs": [],
   "source": [
    "max_seq_length = 22\n",
    "\n",
    "X_train = []\n",
    "y_train = []\n",
    "X_val = []\n",
    "y_val = []\n",
    "X_test = []\n",
    "y_test = []\n",
    "\n",
    "\n",
    "MAX_WIDTH = 100\n",
    "MAX_HEIGHT = 100"
   ]
  },
  {
   "cell_type": "code",
   "execution_count": 8,
   "metadata": {},
   "outputs": [
    {
     "name": "stderr",
     "output_type": "stream",
     "text": [
      "C:\\Users\\deepdesk\\AppData\\Local\\Temp\\ipykernel_2696\\775558860.py:5: DeprecationWarning: Starting with ImageIO v3 the behavior of this function will switch to that of iio.v3.imread. To keep the current behavior (and make this warning dissapear) use `import imageio.v2 as imageio` or call `imageio.v2.imread` directly.\n",
      "  image = imageio.imread('D:/Projects/external_data/cropped/' + img_name)\n"
     ]
    }
   ],
   "source": [
    "from skimage.transform import resize\n",
    "import time\n",
    "sequence = []\n",
    "for img_name in file_list:        \n",
    "    image = imageio.imread('D:/Projects/external_data/cropped/' + img_name)\n",
    "    image = resize(image, (MAX_WIDTH, MAX_HEIGHT))\n",
    "    image = 255 * image\n",
    "    # Convert to integer data type pixels.\n",
    "    image = image.astype(np.uint8)\n",
    "    sequence.append(image)                        \n",
    "pad_array = [np.zeros((MAX_WIDTH, MAX_HEIGHT))]                            \n",
    "sequence.extend(pad_array * (max_seq_length - len(sequence)))\n",
    "sequence = np.array(sequence)\n"
   ]
  },
  {
   "cell_type": "code",
   "execution_count": 11,
   "metadata": {},
   "outputs": [],
   "source": [
    "X_test.append(sequence)"
   ]
  },
  {
   "cell_type": "code",
   "execution_count": 12,
   "metadata": {},
   "outputs": [
    {
     "name": "stdout",
     "output_type": "stream",
     "text": [
      "(1, 22, 100, 100)\n"
     ]
    }
   ],
   "source": [
    "X_test = np.array(X_test)\n",
    "print(X_test.shape)"
   ]
  },
  {
   "cell_type": "code",
   "execution_count": 13,
   "metadata": {},
   "outputs": [],
   "source": [
    "def normalize_it(X):\n",
    "    v_min = X.min(axis=(2, 3), keepdims=True)\n",
    "    v_max = X.max(axis=(2, 3), keepdims=True)\n",
    "    X = (X - v_min)/(v_max - v_min)\n",
    "    X = np.nan_to_num(X)\n",
    "    return X"
   ]
  },
  {
   "cell_type": "code",
   "execution_count": 14,
   "metadata": {},
   "outputs": [
    {
     "name": "stderr",
     "output_type": "stream",
     "text": [
      "C:\\Users\\deepdesk\\AppData\\Local\\Temp\\ipykernel_2696\\3382126703.py:4: RuntimeWarning: invalid value encountered in true_divide\n",
      "  X = (X - v_min)/(v_max - v_min)\n"
     ]
    }
   ],
   "source": [
    "X_test = normalize_it(X_test)"
   ]
  },
  {
   "cell_type": "code",
   "execution_count": 15,
   "metadata": {},
   "outputs": [],
   "source": [
    "from keras.utils import np_utils, generic_utils"
   ]
  },
  {
   "cell_type": "code",
   "execution_count": 16,
   "metadata": {},
   "outputs": [],
   "source": [
    "X_test = np.expand_dims(X_test, axis=4)"
   ]
  },
  {
   "cell_type": "code",
   "execution_count": null,
   "metadata": {},
   "outputs": [],
   "source": []
  },
  {
   "cell_type": "code",
   "execution_count": 17,
   "metadata": {},
   "outputs": [
    {
     "name": "stdout",
     "output_type": "stream",
     "text": [
      "(1, 22, 100, 100, 1)\n"
     ]
    }
   ],
   "source": [
    "print(X_test.shape)"
   ]
  },
  {
   "cell_type": "code",
   "execution_count": 19,
   "metadata": {},
   "outputs": [
    {
     "name": "stdout",
     "output_type": "stream",
     "text": [
      "1/1 [==============================] - 3s 3s/step\n"
     ]
    }
   ],
   "source": [
    "ypred = savedModel.predict(X_test)"
   ]
  },
  {
   "cell_type": "code",
   "execution_count": 20,
   "metadata": {},
   "outputs": [
    {
     "data": {
      "text/plain": [
       "array([[9.9690139e-01, 4.7577071e-09, 3.4452377e-09, 7.0146339e-10,\n",
       "        3.0981945e-03, 2.6367669e-10, 1.3629773e-07, 3.5865384e-07,\n",
       "        2.3879385e-10, 3.2664069e-08]], dtype=float32)"
      ]
     },
     "execution_count": 20,
     "metadata": {},
     "output_type": "execute_result"
    }
   ],
   "source": [
    "ypred"
   ]
  },
  {
   "cell_type": "code",
   "execution_count": 21,
   "metadata": {},
   "outputs": [
    {
     "name": "stdout",
     "output_type": "stream",
     "text": [
      "['Begin']\n"
     ]
    }
   ],
   "source": [
    "words = ['Begin', 'Choose', 'Connection', 'Navigation', 'Next', 'Previous', 'Start', 'Stop', 'Hello', 'Web']  \n",
    "predicted_words = [words[i] for i in np.argmax(ypred, axis=1)]\n",
    "print(predicted_words)"
   ]
  },
  {
   "cell_type": "code",
   "execution_count": 22,
   "metadata": {},
   "outputs": [],
   "source": [
    "# release GPU memory\n",
    "from keras import backend as K\n",
    "K.clear_session()\n",
    "\n",
    "from numba import cuda\n",
    "cuda.select_device(0)\n",
    "cuda.close()"
   ]
  },
  {
   "cell_type": "code",
   "execution_count": 20,
   "metadata": {},
   "outputs": [],
   "source": [
    "# t1 = time.time()\n",
    "# history = model.fit(X_train, y_train, validation_data=(X_val, y_val), epochs=45, batch_size= 8)\n",
    "# t2 = time.time()\n",
    "# print()\n",
    "# print(f\"Training time : {t2 - t1} secs.\")"
   ]
  },
  {
   "cell_type": "code",
   "execution_count": 43,
   "metadata": {},
   "outputs": [],
   "source": [
    "# # release GPU memory\n",
    "# from keras import backend as K\n",
    "# K.clear_session()\n",
    "\n",
    "# from numba import cuda\n",
    "# cuda.select_device(0)\n",
    "# cuda.close()"
   ]
  },
  {
   "cell_type": "markdown",
   "metadata": {},
   "source": [
    "batch_size > 1 returned Out Of Memory error due to insufficient of VRam on the GPU"
   ]
  }
 ],
 "metadata": {
  "kernelspec": {
   "display_name": "Python 3.9.13 ('base')",
   "language": "python",
   "name": "python3"
  },
  "language_info": {
   "codemirror_mode": {
    "name": "ipython",
    "version": 3
   },
   "file_extension": ".py",
   "mimetype": "text/x-python",
   "name": "python",
   "nbconvert_exporter": "python",
   "pygments_lexer": "ipython3",
   "version": "3.9.13"
  },
  "orig_nbformat": 4,
  "vscode": {
   "interpreter": {
    "hash": "0398511a9cde84ab83a2fa188ff6508a33d7c0397b3581839dbbf3238a247df4"
   }
  }
 },
 "nbformat": 4,
 "nbformat_minor": 2
}
