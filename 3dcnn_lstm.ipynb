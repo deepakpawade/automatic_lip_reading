{
  "nbformat": 4,
  "nbformat_minor": 0,
  "metadata": {
    "colab": {
      "provenance": []
    },
    "kernelspec": {
      "name": "python3",
      "display_name": "Python 3"
    },
    "language_info": {
      "name": "python"
    },
    "accelerator": "GPU",
    "gpuClass": "standard"
  },
  "cells": [
    {
      "cell_type": "code",
      "source": [
        "import numpy as np \n",
        "import pandas as pd\n",
        "import numpy as np\n",
        "import os\n",
        "import imutils\n",
        "import dlib \n",
        "import cv2 \n",
        "import imageio\n",
        "from imutils import face_utils\n",
        "from skimage.transform import resize\n",
        "import time"
      ],
      "metadata": {
        "id": "_Hq8ITtecihn"
      },
      "execution_count": null,
      "outputs": []
    },
    {
      "cell_type": "code",
      "execution_count": null,
      "metadata": {
        "id": "LGARQ3ADbE-z"
      },
      "outputs": [],
      "source": [
        "splits = '/content/drive/MyDrive/datasets/MIRACL-VC1/splits/'\n",
        "X_train = np.load(splits + 'X_train.npy')\n",
        "X_val = np.load(splits + 'X_val.npy')\n",
        "X_test = np.load(splits + 'X_test.npy')\n",
        "y_train = np.load(splits + 'y_train.npy')\n",
        "y_val = np.load(splits + 'y_val.npy')\n",
        "y_test = np.load(splits + 'y_test.npy')"
      ]
    },
    {
      "cell_type": "code",
      "source": [
        "from keras.layers.convolutional import Conv3D, MaxPooling3D\n",
        "from keras.layers.core import Dense, Dropout, Flatten\n",
        "from keras.models import Sequential\n",
        "from keras.layers import Activation, ZeroPadding3D, TimeDistributed, LSTM, GRU, Reshape\n",
        "# from keras.utils import plot_model\n",
        "from keras.utils.vis_utils import plot_model\n",
        "# from keras.layers.normalization import BatchNormalization\n",
        "from tensorflow.keras.layers import BatchNormalization\n",
        "import matplotlib.pyplot as plt"
      ],
      "metadata": {
        "id": "JiS7LVpMcYCh"
      },
      "execution_count": null,
      "outputs": []
    },
    {
      "cell_type": "code",
      "source": [
        "model = Sequential()\n",
        "\n",
        "# 1st layer group\n",
        "model.add(Conv3D(32, (3, 3, 3), strides = 1, input_shape=(22, 100, 100, 1), activation='relu', padding='valid'))\n",
        "model.add(MaxPooling3D(pool_size=(2, 2, 2), strides=2))\n",
        "\n",
        "model.add(Conv3D(64, (3, 3, 3), activation='relu', strides=1))\n",
        "model.add(MaxPooling3D(pool_size=(2, 2, 2), strides=2))\n",
        "\n",
        "model.add(Conv3D(128, (3, 3, 3), activation='relu', strides=1))\n",
        "model.add(MaxPooling3D(pool_size=(2, 2, 2), strides=2))\n",
        "\n",
        "# reshape layer\n",
        "# shape = model.get_output_shape_at(0)\n",
        "shape = model.layers[-1].output_shape\n",
        "model.add(Reshape((shape[-1],shape[1]*shape[2]*shape[3])))\n",
        "\n",
        "\n",
        "# LSTMS - Recurrent Network Layer\n",
        "model.add(LSTM(32, return_sequences=True))\n",
        "model.add(Dropout(.5))\n",
        "\n",
        "model.add((Flatten()))\n",
        "\n",
        "# # FC layers group\n",
        "model.add(Dense(2048, activation='relu'))\n",
        "model.add(Dropout(.5))\n",
        "model.add(Dense(1024, activation='relu'))\n",
        "model.add(Dropout(.5))\n",
        "\n",
        "model.add(Dense(10, activation='softmax'))\n",
        "\n",
        "model.compile(loss='categorical_crossentropy', optimizer='Adam', metrics=['accuracy'])\n",
        "model.summary()"
      ],
      "metadata": {
        "colab": {
          "base_uri": "https://localhost:8080/"
        },
        "id": "2iD57qtvcZ-8",
        "outputId": "d94dd2e4-c715-44d6-982c-90f016cf61ac"
      },
      "execution_count": null,
      "outputs": [
        {
          "output_type": "stream",
          "name": "stdout",
          "text": [
            "Model: \"sequential\"\n",
            "_________________________________________________________________\n",
            " Layer (type)                Output Shape              Param #   \n",
            "=================================================================\n",
            " conv3d (Conv3D)             (None, 20, 98, 98, 32)    896       \n",
            "                                                                 \n",
            " max_pooling3d (MaxPooling3D  (None, 10, 49, 49, 32)   0         \n",
            " )                                                               \n",
            "                                                                 \n",
            " conv3d_1 (Conv3D)           (None, 8, 47, 47, 64)     55360     \n",
            "                                                                 \n",
            " max_pooling3d_1 (MaxPooling  (None, 4, 23, 23, 64)    0         \n",
            " 3D)                                                             \n",
            "                                                                 \n",
            " conv3d_2 (Conv3D)           (None, 2, 21, 21, 128)    221312    \n",
            "                                                                 \n",
            " max_pooling3d_2 (MaxPooling  (None, 1, 10, 10, 128)   0         \n",
            " 3D)                                                             \n",
            "                                                                 \n",
            " reshape (Reshape)           (None, 128, 100)          0         \n",
            "                                                                 \n",
            " lstm (LSTM)                 (None, 128, 32)           17024     \n",
            "                                                                 \n",
            " dropout (Dropout)           (None, 128, 32)           0         \n",
            "                                                                 \n",
            " flatten (Flatten)           (None, 4096)              0         \n",
            "                                                                 \n",
            " dense (Dense)               (None, 2048)              8390656   \n",
            "                                                                 \n",
            " dropout_1 (Dropout)         (None, 2048)              0         \n",
            "                                                                 \n",
            " dense_1 (Dense)             (None, 1024)              2098176   \n",
            "                                                                 \n",
            " dropout_2 (Dropout)         (None, 1024)              0         \n",
            "                                                                 \n",
            " dense_2 (Dense)             (None, 10)                10250     \n",
            "                                                                 \n",
            "=================================================================\n",
            "Total params: 10,793,674\n",
            "Trainable params: 10,793,674\n",
            "Non-trainable params: 0\n",
            "_________________________________________________________________\n"
          ]
        }
      ]
    },
    {
      "cell_type": "code",
      "source": [
        "t1 = time.time()\n",
        "history = model.fit(X_train, y_train, validation_data=(X_val, y_val), epochs=45, batch_size= 16)\n",
        "t2 = time.time()\n",
        "print()\n",
        "print(f\"Training time : {t2 - t1} secs.\")"
      ],
      "metadata": {
        "colab": {
          "base_uri": "https://localhost:8080/"
        },
        "id": "l3wpP0q5cqJW",
        "outputId": "562d507f-ec08-433c-8ec7-c7b97c217f70"
      },
      "execution_count": null,
      "outputs": [
        {
          "output_type": "stream",
          "name": "stdout",
          "text": [
            "Epoch 1/45\n",
            "75/75 [==============================] - 23s 146ms/step - loss: 2.3104 - accuracy: 0.0892 - val_loss: 2.3012 - val_accuracy: 0.1150\n",
            "Epoch 2/45\n",
            "75/75 [==============================] - 10s 134ms/step - loss: 2.3034 - accuracy: 0.1075 - val_loss: 2.2618 - val_accuracy: 0.1200\n",
            "Epoch 3/45\n",
            "75/75 [==============================] - 10s 134ms/step - loss: 2.2782 - accuracy: 0.1450 - val_loss: 2.3086 - val_accuracy: 0.1700\n",
            "Epoch 4/45\n",
            "75/75 [==============================] - 10s 134ms/step - loss: 2.1739 - accuracy: 0.2058 - val_loss: 2.1391 - val_accuracy: 0.2550\n",
            "Epoch 5/45\n",
            "75/75 [==============================] - 10s 135ms/step - loss: 1.7566 - accuracy: 0.3675 - val_loss: 1.7377 - val_accuracy: 0.3950\n",
            "Epoch 6/45\n",
            "75/75 [==============================] - 10s 135ms/step - loss: 1.3908 - accuracy: 0.5117 - val_loss: 1.6593 - val_accuracy: 0.3800\n",
            "Epoch 7/45\n",
            "75/75 [==============================] - 10s 136ms/step - loss: 1.0984 - accuracy: 0.6183 - val_loss: 1.5675 - val_accuracy: 0.4650\n",
            "Epoch 8/45\n",
            "75/75 [==============================] - 10s 138ms/step - loss: 0.9196 - accuracy: 0.6542 - val_loss: 1.5861 - val_accuracy: 0.4650\n",
            "Epoch 9/45\n",
            "75/75 [==============================] - 10s 138ms/step - loss: 0.7049 - accuracy: 0.7475 - val_loss: 1.8116 - val_accuracy: 0.4950\n",
            "Epoch 10/45\n",
            "75/75 [==============================] - 10s 138ms/step - loss: 0.6046 - accuracy: 0.7783 - val_loss: 1.7804 - val_accuracy: 0.5000\n",
            "Epoch 11/45\n",
            "75/75 [==============================] - 10s 139ms/step - loss: 0.5183 - accuracy: 0.8142 - val_loss: 1.9587 - val_accuracy: 0.5600\n",
            "Epoch 12/45\n",
            "75/75 [==============================] - 10s 140ms/step - loss: 0.4293 - accuracy: 0.8517 - val_loss: 1.9127 - val_accuracy: 0.4650\n",
            "Epoch 13/45\n",
            "75/75 [==============================] - 10s 140ms/step - loss: 0.4453 - accuracy: 0.8492 - val_loss: 1.8519 - val_accuracy: 0.5300\n",
            "Epoch 14/45\n",
            "75/75 [==============================] - 10s 140ms/step - loss: 0.3126 - accuracy: 0.8800 - val_loss: 2.5282 - val_accuracy: 0.5250\n",
            "Epoch 15/45\n",
            "75/75 [==============================] - 10s 139ms/step - loss: 0.3214 - accuracy: 0.8992 - val_loss: 1.9245 - val_accuracy: 0.5650\n",
            "Epoch 16/45\n",
            "75/75 [==============================] - 10s 139ms/step - loss: 0.2261 - accuracy: 0.9150 - val_loss: 1.9498 - val_accuracy: 0.5300\n",
            "Epoch 17/45\n",
            "75/75 [==============================] - 10s 139ms/step - loss: 0.2510 - accuracy: 0.9167 - val_loss: 2.1946 - val_accuracy: 0.5450\n",
            "Epoch 18/45\n",
            "75/75 [==============================] - 10s 139ms/step - loss: 0.2720 - accuracy: 0.9133 - val_loss: 2.1970 - val_accuracy: 0.5700\n",
            "Epoch 19/45\n",
            "75/75 [==============================] - 10s 139ms/step - loss: 0.1867 - accuracy: 0.9383 - val_loss: 2.1501 - val_accuracy: 0.5250\n",
            "Epoch 20/45\n",
            "75/75 [==============================] - 10s 139ms/step - loss: 0.2142 - accuracy: 0.9292 - val_loss: 1.9951 - val_accuracy: 0.5800\n",
            "Epoch 21/45\n",
            "75/75 [==============================] - 10s 139ms/step - loss: 0.1929 - accuracy: 0.9342 - val_loss: 2.6117 - val_accuracy: 0.4900\n",
            "Epoch 22/45\n",
            "75/75 [==============================] - 10s 140ms/step - loss: 0.1623 - accuracy: 0.9483 - val_loss: 1.7158 - val_accuracy: 0.6000\n",
            "Epoch 23/45\n",
            "75/75 [==============================] - 10s 139ms/step - loss: 0.1265 - accuracy: 0.9600 - val_loss: 2.5355 - val_accuracy: 0.5000\n",
            "Epoch 24/45\n",
            "75/75 [==============================] - 10s 139ms/step - loss: 0.0821 - accuracy: 0.9742 - val_loss: 2.1273 - val_accuracy: 0.5450\n",
            "Epoch 25/45\n",
            "75/75 [==============================] - 10s 138ms/step - loss: 0.1116 - accuracy: 0.9692 - val_loss: 2.6969 - val_accuracy: 0.5300\n",
            "Epoch 26/45\n",
            "75/75 [==============================] - 10s 138ms/step - loss: 0.1130 - accuracy: 0.9642 - val_loss: 2.6285 - val_accuracy: 0.5450\n",
            "Epoch 27/45\n",
            "75/75 [==============================] - 10s 140ms/step - loss: 0.1571 - accuracy: 0.9442 - val_loss: 2.7971 - val_accuracy: 0.5050\n",
            "Epoch 28/45\n",
            "75/75 [==============================] - 10s 138ms/step - loss: 0.1270 - accuracy: 0.9633 - val_loss: 2.6954 - val_accuracy: 0.5500\n",
            "Epoch 29/45\n",
            "75/75 [==============================] - 10s 139ms/step - loss: 0.1106 - accuracy: 0.9650 - val_loss: 2.2102 - val_accuracy: 0.5850\n",
            "Epoch 30/45\n",
            "75/75 [==============================] - 10s 139ms/step - loss: 0.1253 - accuracy: 0.9658 - val_loss: 2.5499 - val_accuracy: 0.5250\n",
            "Epoch 31/45\n",
            "75/75 [==============================] - 10s 139ms/step - loss: 0.0779 - accuracy: 0.9742 - val_loss: 2.4448 - val_accuracy: 0.5700\n",
            "Epoch 32/45\n",
            "75/75 [==============================] - 10s 139ms/step - loss: 0.0920 - accuracy: 0.9717 - val_loss: 2.4281 - val_accuracy: 0.5900\n",
            "Epoch 33/45\n",
            "75/75 [==============================] - 10s 139ms/step - loss: 0.0467 - accuracy: 0.9850 - val_loss: 2.2145 - val_accuracy: 0.5700\n",
            "Epoch 34/45\n",
            "75/75 [==============================] - 10s 139ms/step - loss: 0.1051 - accuracy: 0.9717 - val_loss: 2.7650 - val_accuracy: 0.5300\n",
            "Epoch 35/45\n",
            "75/75 [==============================] - 10s 139ms/step - loss: 0.0617 - accuracy: 0.9808 - val_loss: 3.3100 - val_accuracy: 0.4950\n",
            "Epoch 36/45\n",
            "75/75 [==============================] - 10s 139ms/step - loss: 0.0943 - accuracy: 0.9742 - val_loss: 3.3884 - val_accuracy: 0.5500\n",
            "Epoch 37/45\n",
            "75/75 [==============================] - 10s 139ms/step - loss: 0.0740 - accuracy: 0.9758 - val_loss: 3.2735 - val_accuracy: 0.5250\n",
            "Epoch 38/45\n",
            "75/75 [==============================] - 10s 138ms/step - loss: 0.1142 - accuracy: 0.9658 - val_loss: 3.2314 - val_accuracy: 0.5750\n",
            "Epoch 39/45\n",
            "75/75 [==============================] - 10s 139ms/step - loss: 0.1254 - accuracy: 0.9642 - val_loss: 3.0920 - val_accuracy: 0.5100\n",
            "Epoch 40/45\n",
            "75/75 [==============================] - 10s 138ms/step - loss: 0.1666 - accuracy: 0.9567 - val_loss: 3.7821 - val_accuracy: 0.4800\n",
            "Epoch 41/45\n",
            "75/75 [==============================] - 10s 138ms/step - loss: 0.0788 - accuracy: 0.9742 - val_loss: 3.1591 - val_accuracy: 0.5200\n",
            "Epoch 42/45\n",
            "75/75 [==============================] - 10s 139ms/step - loss: 0.1071 - accuracy: 0.9683 - val_loss: 3.3587 - val_accuracy: 0.5200\n",
            "Epoch 43/45\n",
            "75/75 [==============================] - 10s 138ms/step - loss: 0.0676 - accuracy: 0.9800 - val_loss: 3.8095 - val_accuracy: 0.4750\n",
            "Epoch 44/45\n",
            "75/75 [==============================] - 10s 138ms/step - loss: 0.1339 - accuracy: 0.9633 - val_loss: 3.1728 - val_accuracy: 0.4750\n",
            "Epoch 45/45\n",
            "75/75 [==============================] - 10s 138ms/step - loss: 0.0811 - accuracy: 0.9783 - val_loss: 2.5422 - val_accuracy: 0.6250\n",
            "\n",
            "Training time : 506.0561625957489 secs.\n"
          ]
        }
      ]
    },
    {
      "cell_type": "code",
      "source": [
        "# Plot training & validation accuracy values\n",
        "plt.plot(history.history['accuracy'])\n",
        "plt.plot(history.history['val_accuracy'])\n",
        "plt.title('Model accuracy')\n",
        "plt.ylabel('Accuracy')\n",
        "plt.xlabel('Epoch')\n",
        "plt.legend(['Train', 'Validation'], loc='upper left')\n",
        "plt.show()"
      ],
      "metadata": {
        "colab": {
          "base_uri": "https://localhost:8080/",
          "height": 295
        },
        "id": "KDSCPXj6cp6e",
        "outputId": "b25484c0-5fd1-4121-f1b7-4171a52fd698"
      },
      "execution_count": null,
      "outputs": [
        {
          "output_type": "display_data",
          "data": {
            "text/plain": [
              "<Figure size 432x288 with 1 Axes>"
            ],
            "image/png": "[encoded data removed]"
          },
          "metadata": {
            "needs_background": "light"
          }
        }
      ]
    },
    {
      "cell_type": "code",
      "source": [
        "model.save('/content/drive/MyDrive/models/lstm_adagrad_e45_bc16/model.h5')\n",
        "model.save_weights('/content/drive/MyDrive/models/lstm_adagrad_e45_bc16/model_weights.h5')"
      ],
      "metadata": {
        "id": "3XmB7QymctpD"
      },
      "execution_count": null,
      "outputs": []
    },
    {
      "cell_type": "code",
      "source": [
        "model = Sequential()\n",
        "\n",
        "# 1st layer group\n",
        "model.add(Conv3D(32, (3, 3, 3), strides = 1, input_shape=(22, 100, 100, 1), activation='relu', padding='valid'))\n",
        "model.add(MaxPooling3D(pool_size=(2, 2, 2), strides=2))\n",
        "\n",
        "model.add(Conv3D(64, (3, 3, 3), activation='relu', strides=1))\n",
        "model.add(MaxPooling3D(pool_size=(2, 2, 2), strides=2))\n",
        "\n",
        "model.add(Conv3D(128, (3, 3, 3), activation='relu', strides=1))\n",
        "model.add(MaxPooling3D(pool_size=(2, 2, 2), strides=2))\n",
        "\n",
        "# reshape layer\n",
        "# shape = model.get_output_shape_at(0)\n",
        "shape = model.layers[-1].output_shape\n",
        "model.add(Reshape((shape[-1],shape[1]*shape[2]*shape[3])))\n",
        "\n",
        "\n",
        "# LSTMS - Recurrent Network Layer\n",
        "model.add(LSTM(64, return_sequences=True))\n",
        "model.add(Dropout(.3))\n",
        "\n",
        "model.add(LSTM(32, return_sequences=True))\n",
        "model.add(Dropout(.3))\n",
        "\n",
        "\n",
        "model.add((Flatten()))\n",
        "\n",
        "# # FC layers group\n",
        "model.add(Dense(2048, activation='relu'))\n",
        "model.add(Dropout(.5))\n",
        "model.add(Dense(1024, activation='relu'))\n",
        "model.add(Dropout(.5))\n",
        "\n",
        "model.add(Dense(10, activation='softmax'))\n",
        "\n",
        "model.compile(loss='categorical_crossentropy', optimizer='Adam', metrics=['accuracy'])\n",
        "model.summary()"
      ],
      "metadata": {
        "id": "u9bjk2vCUQ-I"
      },
      "execution_count": null,
      "outputs": []
    }
  ]
}