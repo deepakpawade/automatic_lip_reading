{
  "nbformat": 4,
  "nbformat_minor": 0,
  "metadata": {
    "colab": {
      "provenance": []
    },
    "kernelspec": {
      "name": "python3",
      "display_name": "Python 3"
    },
    "language_info": {
      "name": "python"
    },
    "accelerator": "GPU",
    "gpuClass": "standard"
  },
  "cells": [
    {
      "cell_type": "code",
      "execution_count": null,
      "metadata": {
        "id": "KSmc9kXd4YWi"
      },
      "outputs": [],
      "source": [
        "from tensorflow.keras.models import Model\n",
        "from tensorflow.keras.models import load_model"
      ]
    },
    {
      "cell_type": "code",
      "source": [
        "saved_model = load_model('/content/drive/MyDrive/models/cnn_adagrad_e45_bc16/model.h5')"
      ],
      "metadata": {
        "id": "Njnd-KXS4q0M"
      },
      "execution_count": null,
      "outputs": []
    },
    {
      "cell_type": "code",
      "source": [
        "model = saved_model"
      ],
      "metadata": {
        "id": "DuRFeTC85CWD"
      },
      "execution_count": null,
      "outputs": []
    },
    {
      "cell_type": "code",
      "source": [
        "model.summary()"
      ],
      "metadata": {
        "colab": {
          "base_uri": "https://localhost:8080/"
        },
        "id": "BrbIJZg15Jre",
        "outputId": "803d86b1-5a7c-4066-deac-ec1e52f90d8e"
      },
      "execution_count": null,
      "outputs": [
        {
          "output_type": "stream",
          "name": "stdout",
          "text": [
            "Model: \"sequential\"\n",
            "_________________________________________________________________\n",
            " Layer (type)                Output Shape              Param #   \n",
            "=================================================================\n",
            " conv3d (Conv3D)             (None, 20, 98, 98, 64)    1792      \n",
            "                                                                 \n",
            " max_pooling3d (MaxPooling3D  (None, 10, 49, 49, 64)   0         \n",
            " )                                                               \n",
            "                                                                 \n",
            " conv3d_1 (Conv3D)           (None, 8, 47, 47, 128)    221312    \n",
            "                                                                 \n",
            " max_pooling3d_1 (MaxPooling  (None, 4, 23, 23, 128)   0         \n",
            " 3D)                                                             \n",
            "                                                                 \n",
            " conv3d_2 (Conv3D)           (None, 3, 22, 22, 256)    262400    \n",
            "                                                                 \n",
            " max_pooling3d_2 (MaxPooling  (None, 1, 11, 11, 256)   0         \n",
            " 3D)                                                             \n",
            "                                                                 \n",
            " flatten (Flatten)           (None, 30976)             0         \n",
            "                                                                 \n",
            " dense (Dense)               (None, 4096)              126881792 \n",
            "                                                                 \n",
            " dropout (Dropout)           (None, 4096)              0         \n",
            "                                                                 \n",
            " dense_1 (Dense)             (None, 2048)              8390656   \n",
            "                                                                 \n",
            " dropout_1 (Dropout)         (None, 2048)              0         \n",
            "                                                                 \n",
            " dense_2 (Dense)             (None, 10)                20490     \n",
            "                                                                 \n",
            "=================================================================\n",
            "Total params: 135,778,442\n",
            "Trainable params: 135,778,442\n",
            "Non-trainable params: 0\n",
            "_________________________________________________________________\n"
          ]
        }
      ]
    },
    {
      "cell_type": "markdown",
      "source": [
        "get list of all layers\n"
      ],
      "metadata": {
        "id": "JccN1kbA5jaI"
      }
    },
    {
      "cell_type": "code",
      "source": [
        "layer = model.layers\n",
        "layer"
      ],
      "metadata": {
        "colab": {
          "base_uri": "https://localhost:8080/"
        },
        "id": "2W79owwo5L5O",
        "outputId": "9369f833-b953-4839-ac84-c9bc2176be5c"
      },
      "execution_count": null,
      "outputs": [
        {
          "output_type": "execute_result",
          "data": {
            "text/plain": [
              "[<keras.layers.convolutional.conv3d.Conv3D at 0x7fc95feec590>,\n",
              " <keras.layers.pooling.max_pooling3d.MaxPooling3D at 0x7fc9603c3c10>,\n",
              " <keras.layers.convolutional.conv3d.Conv3D at 0x7fc9502aaf90>,\n",
              " <keras.layers.pooling.max_pooling3d.MaxPooling3D at 0x7fc9502ccfd0>,\n",
              " <keras.layers.convolutional.conv3d.Conv3D at 0x7fc9502aa310>,\n",
              " <keras.layers.pooling.max_pooling3d.MaxPooling3D at 0x7fc950279450>,\n",
              " <keras.layers.reshaping.flatten.Flatten at 0x7fc95027e410>,\n",
              " <keras.layers.core.dense.Dense at 0x7fc95027f690>,\n",
              " <keras.layers.regularization.dropout.Dropout at 0x7fc950279ed0>,\n",
              " <keras.layers.core.dense.Dense at 0x7fc95027e750>,\n",
              " <keras.layers.regularization.dropout.Dropout at 0x7fc9502cc1d0>,\n",
              " <keras.layers.core.dense.Dense at 0x7fc95027f590>]"
            ]
          },
          "metadata": {},
          "execution_count": 6
        }
      ]
    },
    {
      "cell_type": "code",
      "source": [
        "filters, biases = model.layers[0].get_weights()\n",
        "print(layer[0].name, filters.shape)"
      ],
      "metadata": {
        "colab": {
          "base_uri": "https://localhost:8080/"
        },
        "id": "hCS697XH5fWX",
        "outputId": "2805079d-0762-4f71-9164-8f15cc2d88c6"
      },
      "execution_count": null,
      "outputs": [
        {
          "output_type": "stream",
          "name": "stdout",
          "text": [
            "conv3d (3, 3, 3, 1, 64)\n"
          ]
        }
      ]
    },
    {
      "cell_type": "code",
      "source": [
        "import matplotlib.pyplot as plt"
      ],
      "metadata": {
        "id": "6XRjTIjH6eYS"
      },
      "execution_count": null,
      "outputs": []
    },
    {
      "cell_type": "code",
      "source": [
        "fig1 = plt.figure(figsize=(8,12))\n",
        "columns = 8\n",
        "rows = 8\n",
        "n_filters = columns * rows\n",
        "for i in range(1, n_filters +1):\n",
        "    f = filters[:, :, :,0, i-1]\n",
        "    fig1 =plt.subplot(rows, columns, i)\n",
        "    fig1.set_xticks([])  #Turn off axis\n",
        "    fig1.set_yticks([])\n",
        "    plt.imshow(f[:, :, 0], cmap='gray') #Show only the filters from 0th channel (R)\n",
        "    #ix += 1\n",
        "plt.show() "
      ],
      "metadata": {
        "colab": {
          "base_uri": "https://localhost:8080/",
          "height": 665
        },
        "id": "niyZoXEX6aBB",
        "outputId": "0624f28d-9214-4863-929a-5037abe7a0e2"
      },
      "execution_count": null,
      "outputs": [
        {
          "output_type": "display_data",
          "data": {
            "text/plain": [
              "<Figure size 576x864 with 64 Axes>"
            ],
            "image/png": "[encoded data removed]"
          },
          "metadata": {}
        }
      ]
    },
    {
      "cell_type": "code",
      "source": [
        "conv_layer_index = [0,2,4]\n",
        "outputs = [model.layers[i].output for i in conv_layer_index]\n",
        "model_short = Model(inputs=model.inputs, outputs=outputs)\n",
        "print(model_short.summary())"
      ],
      "metadata": {
        "colab": {
          "base_uri": "https://localhost:8080/"
        },
        "id": "IcyR9YMn7VO7",
        "outputId": "bb3c3582-60bb-4fa1-ec1c-186f61cb4f2b"
      },
      "execution_count": null,
      "outputs": [
        {
          "output_type": "stream",
          "name": "stdout",
          "text": [
            "Model: \"model_1\"\n",
            "_________________________________________________________________\n",
            " Layer (type)                Output Shape              Param #   \n",
            "=================================================================\n",
            " conv3d_input (InputLayer)   [(None, 22, 100, 100, 1)  0         \n",
            "                             ]                                   \n",
            "                                                                 \n",
            " conv3d (Conv3D)             (None, 20, 98, 98, 64)    1792      \n",
            "                                                                 \n",
            " max_pooling3d (MaxPooling3D  (None, 10, 49, 49, 64)   0         \n",
            " )                                                               \n",
            "                                                                 \n",
            " conv3d_1 (Conv3D)           (None, 8, 47, 47, 128)    221312    \n",
            "                                                                 \n",
            " max_pooling3d_1 (MaxPooling  (None, 4, 23, 23, 128)   0         \n",
            " 3D)                                                             \n",
            "                                                                 \n",
            " conv3d_2 (Conv3D)           (None, 3, 22, 22, 256)    262400    \n",
            "                                                                 \n",
            "=================================================================\n",
            "Total params: 485,504\n",
            "Trainable params: 485,504\n",
            "Non-trainable params: 0\n",
            "_________________________________________________________________\n",
            "None\n"
          ]
        }
      ]
    },
    {
      "cell_type": "code",
      "source": [
        "columns = 8\n",
        "rows = 8\n",
        "for ftr in feature_output:\n",
        "    #pos = 1\n",
        "    fig=plt.figure(figsize=(12, 12))\n",
        "    for i in range(1, columns*rows +1):\n",
        "        fig =plt.subplot(rows, columns, i)\n",
        "        fig.set_xticks([])  #Turn off axis\n",
        "        fig.set_yticks([])\n",
        "        plt.imshow(ftr[0, :, :, i-1], cmap='gray')\n",
        "        #pos += 1\n",
        "    plt.show()"
      ],
      "metadata": {
        "id": "zQjqT4lJ8gBd"
      },
      "execution_count": null,
      "outputs": []
    }
  ]
}